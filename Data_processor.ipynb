{
  "nbformat": 4,
  "nbformat_minor": 0,
  "metadata": {
    "colab": {
      "provenance": [],
      "authorship_tag": "ABX9TyPEkSJ7lzpWvNgVyKiplh0L",
      "include_colab_link": true
    },
    "kernelspec": {
      "name": "python3",
      "display_name": "Python 3"
    },
    "language_info": {
      "name": "python"
    }
  },
  "cells": [
    {
      "cell_type": "markdown",
      "metadata": {
        "id": "view-in-github",
        "colab_type": "text"
      },
      "source": [
        "<a href=\"https://colab.research.google.com/github/obete/ClassifierDINOv3/blob/main/Data_processor.ipynb\" target=\"_parent\"><img src=\"https://colab.research.google.com/assets/colab-badge.svg\" alt=\"Open In Colab\"/></a>"
      ]
    },
    {
      "cell_type": "code",
      "execution_count": null,
      "metadata": {
        "id": "cpsMIiXTJt2h"
      },
      "outputs": [],
      "source": []
    },
    {
      "cell_type": "code",
      "execution_count": null,
      "metadata": {
        "collapsed": true,
        "id": "PdkzefKOiObU"
      },
      "outputs": [],
      "source": [
        "#@title Dependencies and Modules\n",
        "!pip install tensorflow pillow requests\n",
        "\n",
        "import os\n",
        "import pandas as pd\n",
        "import requests\n",
        "from PIL import Image\n",
        "from io import BytesIO\n"
      ]
    },
    {
      "cell_type": "markdown",
      "source": [],
      "metadata": {
        "id": "meC5EtwgKmZ1"
      }
    },
    {
      "cell_type": "markdown",
      "metadata": {
        "id": "qPiS5_xlFtYA"
      },
      "source": [
        "**Dataset Used**\n",
        "\n",
        "The data used in this project is Fitzpartick17k dataset available in kaggle. Its a csv comprising of approximately 17,000 record of image url, fitzpatick scale and labels of skin condition for each image."
      ]
    },
    {
      "cell_type": "code",
      "source": [],
      "metadata": {
        "id": "MrmhruUnKi9g"
      },
      "execution_count": null,
      "outputs": []
    },
    {
      "cell_type": "code",
      "execution_count": null,
      "metadata": {
        "collapsed": true,
        "id": "jq3lHk_qjNmb"
      },
      "outputs": [],
      "source": [
        "#@title Setting Data Path\n",
        "from google.colab import drive\n",
        "drive.mount('/content/drive')\n",
        "file_path = \"/content/drive/My Drive/Colab Notebooks/AI_ML_EXAM/fitzpatrick17k.csv\""
      ]
    },
    {
      "cell_type": "code",
      "execution_count": null,
      "metadata": {
        "collapsed": true,
        "id": "q9huCz2TGk-D"
      },
      "outputs": [],
      "source": [
        "#@title Loading Dataset Google drive onto this notebook\n",
        "skin_data = pd.read_csv(file_path)\n",
        "skin_data.head()"
      ]
    },
    {
      "cell_type": "markdown",
      "source": [],
      "metadata": {
        "id": "t0e9Ep3-KzjV"
      }
    },
    {
      "cell_type": "markdown",
      "metadata": {
        "id": "XwoVmPxCHIYa"
      },
      "source": [
        "**FIltering the Data**\n",
        "\n",
        "This study is focusing on the Afican skin which falls under fitzpatrick scal 4, 5 and 6. There fore not all the 17,000 images in the data set will be useful for this project. We filtered out to remain with only desired scale.\n",
        "This leave us with 4934 images corresponding to the desired skin color."
      ]
    },
    {
      "cell_type": "code",
      "source": [],
      "metadata": {
        "id": "WIEumrL_KvMl"
      },
      "execution_count": null,
      "outputs": []
    },
    {
      "cell_type": "code",
      "execution_count": null,
      "metadata": {
        "collapsed": true,
        "id": "K25ncW6bisX_"
      },
      "outputs": [],
      "source": [
        "#@title Filtering Data for Fitzpatrick Scale 5 and 6 and dropping the empty urls\n",
        "filtered_data = skin_data[skin_data['fitzpatrick_scale'].isin([5,6]) & skin_data['url'].notna()]\n",
        "filtered_data[['url','label','fitzpatrick_scale']].describe()"
      ]
    },
    {
      "cell_type": "markdown",
      "metadata": {
        "id": "oddBmqNqIRaD"
      },
      "source": [
        "**Accessing Images.**\n",
        "\n",
        "The .csv fil provides url to the public location of the images. Therefore, to make use of it, in this section, we download, resize  and save the images in their correct labels in our google drive in a folder skin_images.                                                                   This section does that and takes a count of the total number of images that have successfully been downloaded."
      ]
    },
    {
      "cell_type": "code",
      "execution_count": null,
      "metadata": {
        "id": "bt0HTv_VkEF6"
      },
      "outputs": [],
      "source": [
        "# Target folder under My Drive\n",
        "DRIVE_ROOT = '/content/drive/MyDrive/Colab Notebooks/AI_ML_EXAM/'\n",
        "base_dir = f'{DRIVE_ROOT}/skin_images'\n",
        "os.makedirs(base_dir, exist_ok=True)"
      ]
    },
    {
      "cell_type": "code",
      "source": [],
      "metadata": {
        "id": "TP6owP2LLFcm"
      },
      "execution_count": null,
      "outputs": []
    },
    {
      "cell_type": "code",
      "execution_count": null,
      "metadata": {
        "id": "ahDbBUuPkUHW"
      },
      "outputs": [],
      "source": [
        "#@title Downloading and Resizing Images\n",
        "from pathlib import Path\n",
        "# Target folder under My Drive\n",
        "DRIVE_ROOT = '/content/drive/MyDrive/Colab Notebooks/AI_ML_EXAM/'\n",
        "base_dir = f'{DRIVE_ROOT}/skin_images'\n",
        "os.makedirs(base_dir, exist_ok=True)\n",
        "\n",
        "# Remove duplicates from the dataset\n",
        "filtered_data = filtered_data.drop_duplicates(subset=['url'])\n",
        "\n",
        "# Headers to mimic a browser request\n",
        "headers = {\n",
        "    \"User-Agent\": \"Mozilla/5.0 (Windows NT 10.0; Win64; x64) AppleWebKit/537.36 (KHTML, like Gecko) Chrome/112.0.0.0 Safari/537.36\"\n",
        "}\n",
        "\n",
        "# Initialize counters\n",
        "total_images_downloaded = 0\n",
        "failed_urls = []\n",
        "\n",
        "# Download, resize, and save images\n",
        "for idx, row in filtered_data.iterrows():\n",
        "    lbl, url = row['label'], row['url']\n",
        "    outdir = os.path.join(base_dir, lbl)\n",
        "    os.makedirs(outdir, exist_ok=True)\n",
        "    try:\n",
        "        # Use headers in the request\n",
        "        resp = requests.get(url, headers=headers, timeout=10)  # Add headers\n",
        "        resp.raise_for_status()\n",
        "\n",
        "        # Process and save the image\n",
        "        img = Image.open(BytesIO(resp.content)).convert('RGB')\n",
        "        img = img.resize((224, 224))\n",
        "\n",
        "        # Ensure unique filenames\n",
        "        unique_filename = f\"{idx}_{hash(url)}.jpg\"\n",
        "        img.save(os.path.join(outdir, unique_filename))\n",
        "        total_images_downloaded += 1\n",
        "    except Exception as e:\n",
        "        failed_urls.append((url, str(e)))  # Log failed URLs\n",
        "\n",
        "# Verify and count total files\n",
        "file_count = sum(1 for _ in Path(base_dir).rglob('*.jpg'))\n",
        "\n",
        "# Display results\n",
        "print(f\"Total images downloaded and stored: {total_images_downloaded}\")\n",
        "print(f\"Total image files found in folder and subfolders: {file_count}\")\n",
        "print(f\"Failed URLs: {len(failed_urls)}\")\n",
        "\n",
        "# Optional: Save failed URLs for review\n",
        "failed_urls_path = f'{DRIVE_ROOT}/failed_urls.txt'\n",
        "with open(failed_urls_path, 'w') as f:\n",
        "    for url, error in failed_urls:\n",
        "        f.write(f\"{url}\\t{error}\\n\")\n",
        "print(f\"Failed URLs logged to: {failed_urls_path}\")\n",
        "\n"
      ]
    },
    {
      "cell_type": "code",
      "source": [],
      "metadata": {
        "id": "M3cZrhJKLN4N"
      },
      "execution_count": null,
      "outputs": []
    },
    {
      "cell_type": "code",
      "source": [
        "import random\n",
        "import shutil\n",
        "\n",
        "for class_name in os.listdir(f'{DRIVE_ROOT}/skin_images'):\n",
        "    class_path = os.path.join(f'{DRIVE_ROOT}/skin_images', class_name)\n",
        "    if os.path.isdir(class_path):\n",
        "        train_class_path = f\"{DRIVE_ROOT}/train_set/{class_name}\"\n",
        "        val_class_path = f\"{DRIVE_ROOT}/val_set/{class_name}\"\n",
        "        os.makedirs(train_class_path, exist_ok=True)\n",
        "        os.makedirs(val_class_path, exist_ok=True)\n",
        "\n",
        "        # List all images\n",
        "        images = [f for f in os.listdir(class_path) if os.path.isfile(os.path.join(class_path, f))]\n",
        "        random.shuffle(images)\n",
        "\n",
        "        # Split 80/20\n",
        "        split_idx = int(0.8 * len(images))\n",
        "        train_files = images[:split_idx]\n",
        "        val_files = images[split_idx:]\n",
        "\n",
        "        # Copy into train/\n",
        "        for f in train_files:\n",
        "            shutil.copy(os.path.join(class_path, f), os.path.join(train_class_path, f))\n",
        "\n",
        "        # Copy into val/\n",
        "        for f in val_files:\n",
        "            shutil.copy(os.path.join(class_path, f), os.path.join(val_class_path, f))"
      ],
      "metadata": {
        "id": "KMt5rYzhRVjd"
      },
      "execution_count": null,
      "outputs": []
    }
  ]
}